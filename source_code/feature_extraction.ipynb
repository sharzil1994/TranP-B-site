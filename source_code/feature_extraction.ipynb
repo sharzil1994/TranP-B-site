{
  "nbformat": 4,
  "nbformat_minor": 0,
  "metadata": {
    "colab": {
      "provenance": []
    },
    "kernelspec": {
      "name": "python3",
      "display_name": "Python 3"
    },
    "language_info": {
      "name": "python"
    }
  },
  "cells": [
    {
      "cell_type": "code",
      "execution_count": null,
      "metadata": {
        "id": "600UJfPXxEsb"
      },
      "outputs": [],
      "source": [
        "!pip install torch transformers sentencepiece h5py"
      ]
    },
    {
      "cell_type": "code",
      "source": [
        "!pip install torch transformers sentencepiece h5py"
      ],
      "metadata": {
        "id": "TiyJXt45xIpu"
      },
      "execution_count": null,
      "outputs": []
    },
    {
      "cell_type": "code",
      "source": [
        "import os\n",
        "import pickle\n",
        "import numpy as np\n",
        "import random\n",
        "import time\n",
        "import shutil\n",
        "from tqdm import tqdm"
      ],
      "metadata": {
        "id": "yzuj0uC9xKzE"
      },
      "execution_count": null,
      "outputs": []
    },
    {
      "cell_type": "code",
      "source": [
        "import os\n",
        "import pickle\n",
        "import numpy as np\n",
        "import random\n",
        "import time\n",
        "import shutil\n",
        "from tqdm import tqdm"
      ],
      "metadata": {
        "id": "TP9dkqTWxS7f"
      },
      "execution_count": null,
      "outputs": []
    },
    {
      "cell_type": "code",
      "source": [
        "def find_alphabet(string, alphabet):\n",
        "    return alphabet in string\n",
        "\n",
        "\n",
        "def one_hot_encode(sequence):\n",
        "    # Define dictionary mapping amino acids to their indices\n",
        "    amino_acids = 'ACDEFGHIKLMNPQRSTVWY'\n",
        "    aa_to_index = {aa: i for i, aa in enumerate(amino_acids)}\n",
        "\n",
        "    # Initialize one-hot encoded sequence\n",
        "    one_hot_sequence = []\n",
        "\n",
        "    # Iterate over each amino acid in the sequence\n",
        "    for aa in sequence:\n",
        "        # Initialize one-hot encoding vector for current amino acid\n",
        "        encoding = [0] * len(amino_acids)\n",
        "        # Set the index corresponding to the amino acid to 1\n",
        "        if find_alphabet(amino_acids, aa):\n",
        "            encoding[aa_to_index[aa]] = 1\n",
        "        # Append the one-hot encoding vector to the sequence\n",
        "        one_hot_sequence.append(encoding)\n",
        "    one_hot_sequence = np.array(one_hot_sequence)\n",
        "    return one_hot_sequence\n",
        "\n",
        "def get_T5_model(device):\n",
        "    model = T5EncoderModel.from_pretrained(\"Rostlab/prot_t5_xl_half_uniref50-enc\")\n",
        "    model = model.to(device) # move model to GPU\n",
        "    model = model.eval() # set model to evaluation model\n",
        "    tokenizer = T5Tokenizer.from_pretrained('Rostlab/prot_t5_xl_half_uniref50-enc', do_lower_case=False)\n",
        "\n",
        "    return model, tokenizer\n",
        "\n",
        "def get_ProtBert(device):\n",
        "    model = BertModel.from_pretrained(\"Rostlab/prot_bert\")\n",
        "    model = model.to(device) # move model to GPU\n",
        "    model = model.eval() # set model to evaluation model\n",
        "    tokenizer = BertTokenizer.from_pretrained(\"Rostlab/prot_bert\", do_lower_case=False)\n",
        "\n",
        "    return model, tokenizer\n",
        "\n",
        "def get_ProtT5_XL_BFD(device):\n",
        "    model = T5EncoderModel.from_pretrained(\"Rostlab/prot_t5_xl_bfd\")\n",
        "    model = model.to(device) # move model to GPU\n",
        "    model = model.eval() # set model to evaluation model\n",
        "    tokenizer = T5Tokenizer.from_pretrained(\"Rostlab/prot_t5_xl_bfd\", do_lower_case=False )\n",
        "\n",
        "    return model, tokenizer\n",
        "\n",
        "def get_ProtXLNet(device):\n",
        "    xlnet_men_len = 512\n",
        "    model = XLNetModel.from_pretrained(\"Rostlab/prot_xlnet\",mem_len=xlnet_men_len)\n",
        "    model = model.to(device) # move model to GPU\n",
        "    model = model.eval() # set model to evaluation model\n",
        "    tokenizer = XLNetTokenizer.from_pretrained(\"Rostlab/prot_xlnet\", do_lower_case=False)\n",
        "\n",
        "    return model, tokenizer\n",
        "\n",
        "def get_ProtBert_BFD(device):\n",
        "    model = BertModel.from_pretrained(\"Rostlab/prot_bert_bfd\")\n",
        "    model = model.to(device) # move model to GPU\n",
        "    model = model.eval() # set model to evaluation model\n",
        "    tokenizer = BertTokenizer.from_pretrained('Rostlab/prot_bert_bfd', do_lower_case=False )\n",
        "\n",
        "    return model, tokenizer\n",
        "\n",
        "\n",
        "def get_embeddings( model, tokenizer, seqs, per_residue, per_protein, sec_struct,\n",
        "                   max_residues=4000, max_seq_len=1000, max_batch=100 ):\n",
        "\n",
        "    if sec_struct:\n",
        "      sec_struct_model = load_sec_struct_model()\n",
        "\n",
        "    results = {\"residue_embs\" : dict(),\n",
        "               \"protein_embs\" : dict(),\n",
        "               \"sec_structs\" : dict()\n",
        "               }\n",
        "\n",
        "    # sort sequences according to length (reduces unnecessary padding --> speeds up embedding)\n",
        "    seq_dict   = sorted( seqs.items(), key=lambda kv: len( seqs[kv[0]] ), reverse=True )\n",
        "    start = time.time()\n",
        "    batch = list()\n",
        "    for seq_idx, (pdb_id, seq) in enumerate(seq_dict,1):\n",
        "        seq = seq\n",
        "        seq_len = len(seq)\n",
        "        seq = ' '.join(list(seq))\n",
        "        batch.append((pdb_id,seq,seq_len))\n",
        "\n",
        "        n_res_batch = sum([ s_len for  _, _, s_len in batch ]) + seq_len\n",
        "        if len(batch) >= max_batch or n_res_batch>=max_residues or seq_idx==len(seq_dict) or seq_len>max_seq_len:\n",
        "            pdb_ids, seqs, seq_lens = zip(*batch)\n",
        "            batch = list()\n",
        "\n",
        "            token_encoding = tokenizer.batch_encode_plus(seqs, add_special_tokens=True, padding=\"longest\")\n",
        "            input_ids      = torch.tensor(token_encoding['input_ids']).to(device)\n",
        "            attention_mask = torch.tensor(token_encoding['attention_mask']).to(device)\n",
        "            embedding_repr = model(input_ids, attention_mask=attention_mask)\n",
        "\n",
        "            for batch_idx, identifier in enumerate(pdb_ids): # for each protein in the current mini-batch\n",
        "                s_len = seq_lens[batch_idx]\n",
        "                emb = embedding_repr.last_hidden_state[batch_idx,:s_len]\n",
        "                if per_residue: # store per-residue embeddings (Lx1024)\n",
        "                    results[\"residue_embs\"][ identifier ] = emb.detach().cpu().numpy().squeeze()\n",
        "\n",
        "\n",
        "    passed_time=time.time()-start\n",
        "\n",
        "\n",
        "    return results\n",
        "\n",
        "\n",
        "def get_features(seq_all):\n",
        "\n",
        "    !mkdir protein_seqences\n",
        "    temp23= dict()\n",
        "    # for index in seq_all.keys():\n",
        "    #     if  len(seq_all[index]) <=500:\n",
        "    #         temp23[index] = seq_all[index]\n",
        "    temp23=seq_all\n",
        "\n",
        "    !mkdir protT5 # root directory for storing checkpoints, results etc\n",
        "    !mkdir protT5/protT5_checkpoint # directory holding the ProtT5 checkpoint\n",
        "    !mkdir protT5/sec_struct_checkpoint # directory storing the supervised classifier's checkpoint\n",
        "    !mkdir protT5/output # directory for storing your embeddings & predictions\n",
        "    # !wget -nc -P protT5/ https://rostlab.org/~deepppi/example_seqs.fasta\n",
        "    # Huge kudos to the bio_embeddings team here! We will integrate the new encoder, half-prec ProtT5 checkpoint soon\n",
        "    # !wget -nc -P protT5/sec_struct_checkpoint http://data.bioembeddings.com/public/embeddings/feature_models/t5/secstruct_checkpoint.pt\n",
        "    shutil.copy('/content/TranP-B-site/protT5/example_seqs.fasta', '/content/protT5')\n",
        "    shutil.copy('/content/TranP-B-site/protT5/sec_struct_checkpoint/secstruct_checkpoint.pt', '/content/protT5/sec_struct_checkpoint')\n",
        "\n",
        "\n",
        "    seq_path = \"./protT5/example_seqs.fasta\"\n",
        "\n",
        "    per_residue = True\n",
        "    per_residue_path = \"./protT5/output/per_residue_embeddings.h5\" # where to store the embeddings\n",
        "\n",
        "    per_protein = True\n",
        "    per_protein_path = \"./protT5/output/per_protein_embeddings.h5\" # where to store the embeddings\n",
        "\n",
        "    sec_struct = False\n",
        "    sec_struct_path = \"./protT5/output/ss3_preds.fasta\" # file for storing predictions\n",
        "\n",
        "    assert per_protein is True or per_residue is True or sec_struct is True, print(\n",
        "        \"Minimally, you need to active per_residue, per_protein or sec_struct. (or any combination)\")\n",
        "\n",
        "    model, tokenizer = get_T5_model(device)\n",
        "    # model, tokenizer = get_ProtBert(device)\n",
        "    # model, tokenizer = get_ProtT5_XL_BFD(device)\n",
        "    # model, tokenizer = get_ProtXLNet(device)\n",
        "    # model, tokenizer =get_ProtBert_BFD(device)\n",
        "\n",
        "    protein_feat_r=dict()\n",
        "    i=0\n",
        "    for index in tqdm(temp23.keys(), desc=\"Processing\", unit=\"iteration\"):\n",
        "        temp=dict()\n",
        "        temp[index]=temp23[index]\n",
        "        results=get_embeddings( model, tokenizer, temp,\n",
        "                             per_residue, per_protein, sec_struct)\n",
        "        # print(results)\n",
        "        # print(np.shape(results))\n",
        "\n",
        "        i=i+1\n",
        "        temp1=results['residue_embs']\n",
        "        for index2 in temp1.keys():\n",
        "            protein_feat_r[index2]=temp1[index2]\n",
        "\n",
        "    protein_onehot=dict()\n",
        "\n",
        "    for index in temp23.keys():\n",
        "        temp=temp23[index]\n",
        "        encoded_sequence = one_hot_encode(temp)\n",
        "        protein_onehot[index]=encoded_sequence\n",
        "\n",
        "    return protein_feat_r,protein_onehot"
      ],
      "metadata": {
        "id": "M6D56ChkxU98"
      },
      "execution_count": null,
      "outputs": []
    },
    {
      "cell_type": "code",
      "source": [
        "!mkdir /content/feature_save/"
      ],
      "metadata": {
        "id": "yAVVpj6lxcXk"
      },
      "execution_count": null,
      "outputs": []
    },
    {
      "cell_type": "code",
      "source": [
        "pathdata='/content/TranP-B-site/datasets/'\n",
        "\n",
        "# pathdata='./dataset/'\n",
        "with open(pathdata+'Train_335.pkl', 'rb') as file:\n",
        "    train = pickle.load(file)\n",
        "with open(pathdata+'Test_60.pkl', 'rb') as file:\n",
        "    test = pickle.load(file)\n",
        "with open(pathdata+'Test_20_new.pkl', 'rb') as file:\n",
        "    test_20 = pickle.load(file)\n",
        "with open(pathdata+'UBtest_31.pkl', 'rb') as file:\n",
        "    test_UB_31 = pickle.load(file)\n",
        "with open(pathdata+'Btest_31.pkl', 'rb') as file:\n",
        "    test_B_31 = pickle.load(file)\n",
        "with open(pathdata+'Test_70.pkl', 'rb') as file:\n",
        "    test_70 = pickle.load(file)\n",
        "\n",
        "all_data=dict()\n",
        "for index in train.keys():\n",
        "    all_data[index]=train[index]\n",
        "for index in test.keys():\n",
        "    all_data[index]=test[index]\n",
        "for index in test_20.keys():\n",
        "    all_data[index]=test_20[index]\n",
        "for index in test_UB_31.keys():\n",
        "    all_data[index]=test_UB_31[index]\n",
        "for index in test_B_31.keys():\n",
        "    all_data[index]=test_B_31[index]\n",
        "for index in test_70.keys():\n",
        "    all_data[index]=test_70[index]\n",
        "\n",
        "\n",
        "seq_all=dict()\n",
        "for index in all_data.keys():\n",
        "    temp=all_data[index]\n",
        "    seq_all[index]=temp[0]\n",
        "label_all=dict()\n",
        "for index in all_data.keys():\n",
        "    temp=all_data[index]\n",
        "    label_all[index]=temp[1]"
      ],
      "metadata": {
        "id": "fXoEokW-xgf1"
      },
      "execution_count": null,
      "outputs": []
    },
    {
      "cell_type": "code",
      "source": [
        "result1, result2=get_features(seq_all)"
      ],
      "metadata": {
        "id": "jLwNkm_0x9kr"
      },
      "execution_count": null,
      "outputs": []
    },
    {
      "cell_type": "code",
      "source": [
        "out_folder=('/content/feature_save/')\n",
        "with open(file=os.path.join(out_folder,'protein_feat_r.pkl'), mode='wb') as f:\n",
        "    pickle.dump(result1, f)\n",
        "with open(file=os.path.join(out_folder,'protein_feat_one.pkl'), mode='wb') as f:\n",
        "    pickle.dump(result2, f)"
      ],
      "metadata": {
        "id": "NhYbclzjyB3t"
      },
      "execution_count": null,
      "outputs": []
    },
    {
      "cell_type": "code",
      "source": [],
      "metadata": {
        "id": "y-IFSqT8yHJt"
      },
      "execution_count": null,
      "outputs": []
    }
  ]
}