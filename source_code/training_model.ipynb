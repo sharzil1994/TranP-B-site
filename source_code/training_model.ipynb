{
 "cells": [
  {
   "cell_type": "code",
   "execution_count": 3,
   "id": "86e3abed",
   "metadata": {},
   "outputs": [
    {
     "name": "stderr",
     "output_type": "stream",
     "text": [
      "2024-03-20 07:40:23.770199: I tensorflow/core/util/port.cc:111] oneDNN custom operations are on. You may see slightly different numerical results due to floating-point round-off errors from different computation orders. To turn them off, set the environment variable `TF_ENABLE_ONEDNN_OPTS=0`.\n",
      "2024-03-20 07:40:23.814003: E tensorflow/compiler/xla/stream_executor/cuda/cuda_dnn.cc:9342] Unable to register cuDNN factory: Attempting to register factory for plugin cuDNN when one has already been registered\n",
      "2024-03-20 07:40:23.814045: E tensorflow/compiler/xla/stream_executor/cuda/cuda_fft.cc:609] Unable to register cuFFT factory: Attempting to register factory for plugin cuFFT when one has already been registered\n",
      "2024-03-20 07:40:23.814075: E tensorflow/compiler/xla/stream_executor/cuda/cuda_blas.cc:1518] Unable to register cuBLAS factory: Attempting to register factory for plugin cuBLAS when one has already been registered\n",
      "2024-03-20 07:40:23.822903: I tensorflow/core/platform/cpu_feature_guard.cc:182] This TensorFlow binary is optimized to use available CPU instructions in performance-critical operations.\n",
      "To enable the following instructions: AVX2 AVX512F AVX512_VNNI FMA, in other operations, rebuild TensorFlow with the appropriate compiler flags.\n"
     ]
    }
   ],
   "source": [
    "import os\n",
    "import numpy as np\n",
    "from sklearn.model_selection import KFold\n",
    "from sklearn.model_selection import train_test_split\n",
    "from tensorflow.keras.models import Model, Sequential\n",
    "from tensorflow.keras.layers import Input, Conv1D, Conv2D,BatchNormalization, MaxPooling1D,MaxPooling2D,LayerNormalization, Dropout, Flatten, Dense, concatenate ,AveragePooling1D\n",
    "from tensorflow.keras import regularizers\n",
    "from tensorflow.keras.optimizers import SGD, Adam\n",
    "from tensorflow.keras.metrics import binary_accuracy\n",
    "from sklearn.metrics import confusion_matrix, recall_score, roc_curve, roc_auc_score, auc,average_precision_score,matthews_corrcoef\n",
    "import math\n",
    "import tensorflow as tf\n",
    "from tensorflow.keras import losses\n",
    "from sklearn.utils import compute_class_weight\n",
    "import random\n",
    "import itertools\n",
    "import pickle\n",
    "np.random.seed(seed=21)\n",
    "import math"
   ]
  },
  {
   "cell_type": "code",
   "execution_count": 4,
   "id": "301d0b20-3070-4491-b4dd-4a77da576545",
   "metadata": {},
   "outputs": [],
   "source": [
    "\n",
    "os.environ[\"CUDA_DEVICE_ORDER\"] = \"PCI_BUS_ID\"  # see issue #152\n",
    "os.environ[\"CUDA_VISIBLE_DEVICES\"] = '2'\n",
    "\n",
    "TF_ENABLE_ONEDNN_OPTS=0"
   ]
  },
  {
   "cell_type": "code",
   "execution_count": 5,
   "id": "a581f2fb-c8ca-4f90-9864-81d06e67f484",
   "metadata": {},
   "outputs": [],
   "source": [
    "#protein_feat_r.pkl,protein_feat_r_pb.pkl,protein_feat_r_pbBFD.pkl,protein_feat_r_TX.pkl,protein_feat_r_XLNet.pkl\n",
    "win_size=5\n",
    "emb=''"
   ]
  },
  {
   "cell_type": "code",
   "execution_count": 6,
   "id": "77aa50fa",
   "metadata": {},
   "outputs": [],
   "source": [
    "pathdata='./dataset/'\n",
    "\n",
    "with open(pathdata+'Train_335.pkl', 'rb') as file:\n",
    "    train = pickle.load(file) \n",
    "with open(pathdata+'Test_60.pkl', 'rb') as file:\n",
    "    test = pickle.load(file)\n",
    "with open(pathdata+'Test_20_new.pkl', 'rb') as file:\n",
    "    test_20 = pickle.load(file)\n",
    "with open(pathdata+'UBtest_31.pkl', 'rb') as file:\n",
    "    test_UB_31 = pickle.load(file)\n",
    "with open(pathdata+'Btest_31.pkl', 'rb') as file:\n",
    "    test_B_31 = pickle.load(file)\n",
    "\n",
    "\n",
    "all_data=dict()\n",
    "for index in train.keys():\n",
    "    all_data[index]=train[index]\n",
    "for index in test.keys():\n",
    "    all_data[index]=test[index]\n",
    "for index in test_20.keys():\n",
    "    all_data[index]=test_20[index]\n",
    "for index in test_UB_31.keys():\n",
    "    all_data[index]=test_UB_31[index]\n",
    "for index in test_B_31.keys():\n",
    "    all_data[index]=test_B_31[index]\n",
    "\n",
    "seq_all=dict()\n",
    "for index in all_data.keys():\n",
    "    temp=all_data[index]\n",
    "    seq_all[index]=temp[0]\n",
    "label_all=dict()\n",
    "for index in all_data.keys():\n",
    "    temp=all_data[index]\n",
    "    label_all[index]=temp[1]\n",
    "\n",
    "\n"
   ]
  },
  {
   "cell_type": "code",
   "execution_count": 7,
   "id": "729d359b",
   "metadata": {},
   "outputs": [
    {
     "name": "stdout",
     "output_type": "stream",
     "text": [
      "loaded protein_feat_r\n",
      "loaded protein_feat_one\n"
     ]
    }
   ],
   "source": [
    "out_folder=('./feature_save')\n",
    "\n",
    "\n",
    "with open(os.path.join(out_folder,f'protein_feat_r{emb}.pkl'), 'rb') as file:\n",
    "    protein_feat_r = pickle.load(file)\n",
    "    print('loaded protein_feat_r')\n",
    "    \n",
    "with open(os.path.join(out_folder,'protein_feat_one.pkl'), 'rb') as file:\n",
    "    protein_feat_one = pickle.load(file)\n",
    "    print('loaded protein_feat_one')\n"
   ]
  },
  {
   "cell_type": "code",
   "execution_count": 8,
   "id": "5fa36099-9bbd-44f9-994f-3e77a69fc0ab",
   "metadata": {},
   "outputs": [],
   "source": [
    "pathdata='./dataset/'\n",
    "\n",
    "# pathdata='./dataset/'\n",
    "with open(pathdata+'Test_70.pkl', 'rb') as file:\n",
    "    test_70 = pickle.load(file) \n",
    "\n",
    "\n",
    "\n",
    "\n",
    "new_dataset=dict()\n",
    "for index in train.keys():\n",
    "    new_dataset[index]=train[index]\n",
    "\n",
    "\n",
    "for index in train.keys():    \n",
    "    for index1 in test_70.keys():        \n",
    "        if index == index1:\n",
    "            del new_dataset[index1]\n",
    "\n",
    "train=new_dataset\n",
    "\n",
    "all_data_1=dict()\n",
    "for index in test_70.keys():\n",
    "    all_data_1[index]=test_70[index]\n",
    "\n",
    "\n",
    "seq_all_1=dict()\n",
    "for index in all_data_1.keys():\n",
    "    temp=all_data_1[index]\n",
    "    seq_all_1[index]=temp[0]\n",
    "label_all_1=dict()\n",
    "for index in all_data_1.keys():\n",
    "    temp=all_data_1[index]\n",
    "    label_all_1[index]=temp[1]\n",
    "\n",
    "\n",
    "\n",
    "out_folder=('./feature_save')\n",
    "with open(os.path.join(out_folder,f'protein_feat_pisite_r{emb}.pkl'), 'rb') as file:\n",
    "    protein_feat_pisite_r = pickle.load(file)\n",
    "    # print('loaded protein_feat_r')\n",
    "    \n",
    "with open(os.path.join(out_folder,'protein_feat_pisite_one.pkl'), 'rb') as file:\n",
    "    protein_feat_pisite_one = pickle.load(file)\n",
    "    # print('loaded protein_feat_one')\n",
    "\n",
    "\n",
    "\n",
    "test_70_index=dict()\n",
    "\n",
    "\n",
    "for index in test_70.keys():\n",
    "    test_70_index[index]=0\n",
    "\n",
    "prot_test_70=dict()\n",
    "prot_test_70_one=dict()\n",
    "label_test_70=dict()\n",
    "\n",
    "\n",
    "for index in test_70_index.keys():\n",
    "    prot_test_70[index]=protein_feat_pisite_r[index]\n",
    "    prot_test_70_one[index]=protein_feat_pisite_one[index]\n",
    "    label_test_70[index]=label_all_1[index]\n",
    "\n",
    "\n",
    "\n",
    "prot_test_70=np.array(list(prot_test_70.items()),dtype=object)[:,1]\n",
    "prot_test_70_one=np.array(list(prot_test_70_one.items()),dtype=object)[:,1]\n",
    "label_test_70=np.array(list(label_test_70.items()),dtype=object)[:,1]\n"
   ]
  },
  {
   "cell_type": "code",
   "execution_count": 9,
   "id": "1750dac0",
   "metadata": {},
   "outputs": [],
   "source": [
    "#### windowing for features####"
   ]
  },
  {
   "cell_type": "code",
   "execution_count": 10,
   "id": "2e8305a7",
   "metadata": {},
   "outputs": [],
   "source": [
    "def windowing(features,w_size):   \n",
    "    to=0\n",
    "    for index in features:\n",
    "        b=np.shape(index)[0]\n",
    "        to=to+b\n",
    "    \n",
    "        \n",
    "    \n",
    "    a=features[0]\n",
    "    fea_len=np.shape(a)[1]\n",
    "    finalout1=np.zeros([to,w_size,fea_len],'float')\n",
    "    \n",
    "    l=0\n",
    "    for i in range(0,len(features)):\n",
    "        temp_features=features[i]\n",
    "        \n",
    "        for j in range( 0, np.shape(temp_features)[0]):\n",
    "            \n",
    "            \n",
    "            for k in range(0,w_size):\n",
    "                \n",
    "                k1=int(j+k-((w_size-1)/2))\n",
    "                \n",
    "                if k1<0 or k1 > np.shape(temp_features)[0]-1:\n",
    "                    pass\n",
    "                else:\n",
    "                    finalout1[l,k,:]=temp_features[k1,:]\n",
    "            l=l+1\n",
    "    finalout1=finalout1.reshape((finalout1.shape[0], finalout1.shape[1],finalout1.shape[2], 1))\n",
    "    return finalout1\n",
    "\n"
   ]
  },
  {
   "cell_type": "code",
   "execution_count": 11,
   "id": "f87f41f5",
   "metadata": {},
   "outputs": [],
   "source": [
    "def label( labels):   \n",
    "    final_label=labels\n",
    "    \n",
    "    to=0\n",
    "    for i in range(0,len(final_label)):\n",
    "        temp_label=final_label[i]\n",
    "        for j in range(0,len(temp_label)):\n",
    "            to=to+1\n",
    "    \n",
    "    \n",
    "    finallabel=np.zeros([to],'int')\n",
    "    \n",
    "    l=0\n",
    "    for i in range(0,len(final_label)):\n",
    "        # print(i)\n",
    "\n",
    "        temp_label=final_label[i]\n",
    "        \n",
    "        for j in range( 0, len(temp_label)):\n",
    "            \n",
    "\n",
    "            finallabel[l]=temp_label[j]\n",
    "            l=l+1\n",
    "            \n",
    "    return  finallabel "
   ]
  },
  {
   "cell_type": "code",
   "execution_count": null,
   "id": "63b156c1",
   "metadata": {},
   "outputs": [],
   "source": []
  },
  {
   "cell_type": "code",
   "execution_count": 12,
   "id": "fa53ae3f",
   "metadata": {},
   "outputs": [],
   "source": [
    "train_index=dict()\n",
    "test_index=dict()\n",
    "test_20_index=dict()\n",
    "test_UB_31_index=dict()\n",
    "test_B_31_index=dict()\n",
    "\n",
    "for index in train.keys():\n",
    "    train_index[index]=0\n",
    "for index in test.keys():\n",
    "    test_index[index]=0\n",
    "for index in test_20.keys():\n",
    "    test_20_index[index]=0  \n",
    "for index in test_UB_31.keys():\n",
    "    test_UB_31_index[index]=0\n",
    "for index in test_B_31.keys():\n",
    "    test_B_31_index[index]=0  "
   ]
  },
  {
   "cell_type": "code",
   "execution_count": 13,
   "id": "e9903e8c",
   "metadata": {},
   "outputs": [],
   "source": [
    "prot_test_60=dict()\n",
    "label_test_60=dict()\n",
    "\n",
    "\n",
    "for index in test_index.keys():\n",
    "    prot_test_60[index]=protein_feat_r[index]\n",
    "    label_test_60[index]=label_all[index]\n",
    "\n",
    "\n",
    "prot_train_335=dict()\n",
    "label_train_335=dict()\n",
    "\n",
    "for index in train_index.keys():\n",
    "    prot_train_335[index]=protein_feat_r[index]\n",
    "    label_train_335[index]=label_all[index]\n",
    "\n",
    "prot_test_20=dict()\n",
    "label_test_20=dict()\n",
    "\n",
    "for index in test_20_index.keys():\n",
    "    prot_test_20[index]=protein_feat_r[index]\n",
    "    label_test_20[index]=label_all[index]\n",
    "\n",
    "prot_test_UB_31=dict()\n",
    "label_test_UB_31=dict()\n",
    "\n",
    "for index in test_UB_31_index.keys():\n",
    "    prot_test_UB_31[index]=protein_feat_r[index]\n",
    "    label_test_UB_31[index]=label_all[index]\n",
    "\n",
    "prot_test_B_31=dict()\n",
    "label_test_B_31=dict()\n",
    "\n",
    "for index in test_B_31_index.keys():\n",
    "    prot_test_B_31[index]=protein_feat_r[index]\n",
    "    label_test_B_31[index]=label_all[index]\n",
    "\n",
    "\n",
    "\n",
    "\n",
    "\n",
    "prot_train_335=np.array(list(prot_train_335.items()),dtype=object)[:,1]\n",
    "label_train_335=np.array(list(label_train_335.items()),dtype=object)[:,1]\n",
    "\n",
    "\n",
    "prot_test_60=np.array(list(prot_test_60.items()),dtype=object)[:,1]\n",
    "label_test_60=np.array(list(label_test_60.items()),dtype=object)[:,1]\n",
    "\n",
    "prot_test_20=np.array(list(prot_test_20.items()),dtype=object)[:,1]\n",
    "label_test_20=np.array(list(label_test_20.items()),dtype=object)[:,1] \n",
    "\n",
    "prot_test_UB_31=np.array(list(prot_test_UB_31.items()),dtype=object)[:,1]\n",
    "label_test_UB_31=np.array(list(label_test_UB_31.items()),dtype=object)[:,1] \n",
    "\n",
    "prot_test_B_31=np.array(list(prot_test_B_31.items()),dtype=object)[:,1]\n",
    "label_test_B_31=np.array(list(label_test_B_31.items()),dtype=object)[:,1] \n",
    "\n",
    "\n"
   ]
  },
  {
   "cell_type": "code",
   "execution_count": 14,
   "id": "4926514f",
   "metadata": {},
   "outputs": [],
   "source": [
    "prot_test_60_one=dict()\n",
    "\n",
    "for index in test_index.keys():\n",
    "    prot_test_60_one[index]=protein_feat_one[index]\n",
    "\n",
    "prot_train_335_one=dict()\n",
    "\n",
    "for index in train_index.keys():\n",
    "    prot_train_335_one[index]=protein_feat_one[index]\n",
    "\n",
    "prot_test_20_one=dict()\n",
    "\n",
    "for index in test_20_index.keys():\n",
    "    prot_test_20_one[index]=protein_feat_one[index]\n",
    "\n",
    "\n",
    "prot_test_UB_31_one=dict()\n",
    "\n",
    "for index in test_UB_31_index.keys():\n",
    "    prot_test_UB_31_one[index]=protein_feat_one[index]\n",
    "\n",
    "prot_test_B_31_one=dict()\n",
    "\n",
    "for index in test_B_31_index.keys():\n",
    "    prot_test_B_31_one[index]=protein_feat_one[index]\n",
    "\n",
    "\n",
    "\n",
    "prot_train_335_one=np.array(list(prot_train_335_one.items()),dtype=object)[:,1]\n",
    "\n",
    "prot_test_60_one=np.array(list(prot_test_60_one.items()),dtype=object)[:,1]\n",
    "\n",
    "prot_test_20_one=np.array(list(prot_test_20_one.items()),dtype=object)[:,1]\n",
    "\n",
    "prot_test_UB_31_one=np.array(list(prot_test_UB_31_one.items()),dtype=object)[:,1]\n",
    "    \n",
    "prot_test_B_31_one=np.array(list(prot_test_B_31_one.items()),dtype=object)[:,1]\n",
    "\n",
    "\n"
   ]
  },
  {
   "cell_type": "code",
   "execution_count": 15,
   "id": "d9a16cad",
   "metadata": {},
   "outputs": [],
   "source": [
    "prot_test_60=windowing(prot_test_60,win_size)# transformer features\n",
    "prot_test_60_one=windowing(prot_test_60_one,win_size)#one hot  encoding features\n",
    "label_test_60=label(label_test_60) # lables\n",
    "\n",
    "\n",
    "prot_train_335  =windowing(prot_train_335,win_size)\n",
    "prot_train_335_one  =windowing(prot_train_335_one,win_size)\n",
    "label_train_335 =label(label_train_335)\n",
    "\n",
    "\n",
    "prot_test_20  = windowing(prot_test_20,win_size)\n",
    "prot_test_20_one  = windowing(prot_test_20_one,win_size)\n",
    "label_test_20 = label(label_test_20)\n",
    "\n",
    "prot_test_UB_31  = windowing(prot_test_UB_31,win_size)\n",
    "prot_test_UB_31_one  = windowing(prot_test_UB_31_one,win_size)\n",
    "label_test_UB_31 = label(label_test_UB_31)\n",
    "\n",
    "prot_test_B_31  = windowing(prot_test_B_31,win_size)\n",
    "prot_test_B_31_one  = windowing(prot_test_B_31_one,win_size)\n",
    "label_test_B_31 = label(label_test_B_31)\n"
   ]
  },
  {
   "cell_type": "code",
   "execution_count": 16,
   "id": "83b2a71c-0d81-4737-853a-197284e041aa",
   "metadata": {},
   "outputs": [],
   "source": [
    "prot_test_70=windowing(prot_test_70,win_size)\n",
    "prot_test_70_one=windowing(prot_test_70_one,win_size)\n",
    "label_test_70=label(label_test_70)\n"
   ]
  },
  {
   "cell_type": "code",
   "execution_count": 17,
   "id": "67731941-e4fb-484b-8620-5c0b3f329ea3",
   "metadata": {},
   "outputs": [],
   "source": []
  },
  {
   "cell_type": "code",
   "execution_count": 18,
   "id": "8e826147-6734-4bb6-8bbc-0814e6961bf1",
   "metadata": {},
   "outputs": [],
   "source": [
    "#######model training starts here"
   ]
  },
  {
   "cell_type": "code",
   "execution_count": 19,
   "id": "43719ab4-4d95-4bf8-8b40-21b2d3c6ec57",
   "metadata": {},
   "outputs": [],
   "source": [
    "\n",
    "\n",
    "def shuffleData(X, y):\n",
    "    index = [i for i in range(len(X))]\n",
    "    random.shuffle(index)\n",
    "    X = X[index]\n",
    "    y = y[index]\n",
    "    return X, y;\n",
    "    \n",
    "def shuffleData2(X1,X2, y):\n",
    "    index = [i for i in range(len(X1))]\n",
    "    random.shuffle(index)\n",
    "    X1 = X1[index]\n",
    "    X2 = X2[index]\n",
    "    y = y[index]\n",
    "    return X1, X2, y;\n",
    "\n",
    "def chunkIt(seq, num):\n",
    "    avg = len(seq) / float(num)\n",
    "    out = []\n",
    "    last = 0.0\n",
    "\n",
    "    while last < len(seq):\n",
    "        out.append(seq[int(last):int(last + avg)])\n",
    "        last += avg\n",
    "    \n",
    "    return out"
   ]
  },
  {
   "cell_type": "code",
   "execution_count": 22,
   "id": "f32034f1-08cb-48c5-9567-48b04d648ead",
   "metadata": {},
   "outputs": [],
   "source": [
    "\n",
    "\n",
    "class model_class():\n",
    "    def __init__(self,w_size):\n",
    "        \n",
    "        self.w_size=w_size\n",
    "    \n",
    "\n",
    "    def model_cnn_8(self):\n",
    "\n",
    "        inputs = Input(shape = (self.w_size,1024,1))\n",
    "        inputs2 = Input(shape = (self.w_size,20,1))\n",
    "\n",
    "\n",
    "        c1 = Conv2D(32,(7,7), strides=(1,1), activation='relu', input_shape=(self.w_size, 1024,1),padding=\"same\", kernel_regularizer=regularizers.l2(0.1))(inputs)\n",
    "\n",
    "\n",
    "        c1 = LayerNormalization()(c1)\n",
    "        c1 = Dropout(0.3,seed = 21)(c1)\n",
    "\n",
    "        c1 = Conv2D(16,(5,5), strides=(1,1), activation='relu',padding=\"same\", kernel_regularizer=regularizers.l2(0.05))(c1)\n",
    "\n",
    "        c1 = LayerNormalization()(c1)\n",
    "\n",
    "        c1 = Dropout(0.5,seed = 21)(c1)\n",
    "\n",
    "        c1=Flatten()(c1)\n",
    "        \n",
    "        fc1 = Dense(1024, activation='relu')(c1)\n",
    "\n",
    "        fc1 = Dense(512, activation='relu')(fc1)\n",
    "\n",
    "        fc1 = Dense(256, activation='relu')(fc1)\n",
    "\n",
    "        fc1 = Dense(128, activation='relu')(fc1)\n",
    "\n",
    "\n",
    "        p1 = Flatten()(inputs2)\n",
    "        \n",
    "        fc2 = Dense(64, activation='relu')(p1)\n",
    "        fc2 = Dense(32, activation='relu')(fc2)\n",
    "        fc2 = Dense(16, activation='relu')(fc2)\n",
    "\n",
    " \n",
    "        fc1 =concatenate([fc1,fc2])        \n",
    "\n",
    "\n",
    "        fc1 = Dense(64, activation='relu')(fc1)\n",
    "\n",
    "        fc1 = Dense(32, activation='relu')(fc1)\n",
    "\n",
    "        fc1 = Dense(16, activation='relu')(fc1)\n",
    "\n",
    "        fc1 = Dense(8, activation='relu')(fc1)\n",
    "\n",
    "        fc2 = Dense(1, activation='sigmoid')(fc1)\n",
    "\n",
    "        model1 = Model(inputs =[inputs,inputs2], outputs = [fc2])    \n",
    "        opt=SGD(learning_rate=0.00001, momentum = 0.99)\n",
    "\n",
    "        model1.compile(loss='binary_crossentropy', optimizer= opt, metrics=['accuracy'])\n",
    "\n",
    "        return model1"
   ]
  },
  {
   "cell_type": "code",
   "execution_count": 23,
   "id": "345d855c-f15b-4d37-a713-20d205b25e18",
   "metadata": {},
   "outputs": [],
   "source": [
    "def calculateScore(X, y, model): \n",
    "        \n",
    "        i=0\n",
    "        j=0\n",
    "        for index in range(len(y)):\n",
    "            if y[index]==0:\n",
    "                i=i+1\n",
    "            else :\n",
    "                j=j+1\n",
    "                \n",
    "        score = model.evaluate(X,y)\n",
    "        pred_y = model.predict(X)    \n",
    "        accuracy = score[1];    \n",
    "        tempLabel = np.zeros(shape = y.shape, dtype=np.int32)    \n",
    "        for i in range(len(y)):\n",
    "            if pred_y[i] < 0.5:\n",
    "                tempLabel[i] = 0;\n",
    "            else:\n",
    "                tempLabel[i] = 1;\n",
    "        confusion = confusion_matrix(y, tempLabel)\n",
    "        TN, FP, FN, TP = confusion.ravel()\n",
    "        \n",
    "        sensitivity = recall_score(y, tempLabel)\n",
    "        specificity = TN / float(TN+FP)\n",
    "        \n",
    "        # MCC = ((TP*TN)-(FP*FN))/math.sqrt((TP+FP)*(TP+FN)*(TN+FP)*(TN+FN))\n",
    "        MCC=matthews_corrcoef(y, tempLabel)\n",
    "        F1Score = (2 * TP) / float(2 * TP + FP + FN)\n",
    "        precision = TP / float(TP + FP)    \n",
    "        pred_y = pred_y.reshape((-1, ))    \n",
    "        ROCArea = roc_auc_score(y, pred_y)\n",
    "        recall = TP / float(TP + FN)\n",
    "        fpr, tpr, thresholds = roc_curve(y, pred_y)\n",
    "        lossValue = None;    \n",
    "   \n",
    "        y_true = tf.convert_to_tensor(y, np.float32)\n",
    "        y_pred = tf.convert_to_tensor(pred_y, np.float32)\n",
    "        PRAuc=average_precision_score(y, pred_y)   \n",
    "        return {'sn' : sensitivity, 'sp' : specificity, 'acc' : accuracy, 'MCC' : MCC, 'AUC' : ROCArea,'PRAuc':PRAuc, 'precision' : precision, 'F1' : F1Score,  'lossValue' : lossValue}"
   ]
  },
  {
   "cell_type": "code",
   "execution_count": 29,
   "id": "429f5e9c-c875-4b36-9bfd-c42dbbefa2e9",
   "metadata": {
    "scrolled": true
   },
   "outputs": [],
   "source": [
    "model1=model_class(win_size)\n",
    "model = model1.model_cnn_8() \n",
    "\n",
    "print(model.summary())"
   ]
  },
  {
   "cell_type": "code",
   "execution_count": 30,
   "id": "d0f0db27-ec4b-4e7b-a8e2-19a0315fce86",
   "metadata": {
    "scrolled": true
   },
   "outputs": [],
   "source": [
    "\n",
    "\n",
    "class_weights = compute_class_weight(class_weight = \"balanced\",classes = np.unique(label_train_335),y = label_train_335)\n",
    "class_weights = dict(enumerate(class_weights))\n",
    "\n",
    "history = model.fit([prot_train_335,prot_train_335_one], label_train_335, batch_size = 64,\n",
    "                class_weight=class_weights,epochs=1)\n",
    "      "
   ]
  },
  {
   "cell_type": "code",
   "execution_count": 31,
   "id": "0324132b-330e-427a-af35-37c1195414c1",
   "metadata": {},
   "outputs": [
    {
     "name": "stderr",
     "output_type": "stream",
     "text": [
      "2024-03-20 07:40:43.707627: I tensorflow/core/common_runtime/gpu/gpu_device.cc:1886] Created device /job:localhost/replica:0/task:0/device:GPU:0 with 78933 MB memory:  -> device: 0, name: NVIDIA A100 80GB PCIe, pci bus id: 0000:1d:00.0, compute capability: 8.0\n"
     ]
    }
   ],
   "source": [
    "# model = tf.keras.models.load_model('my_model_new.keras')\n",
    "# model.save('my_model_315_tx_5.keras')"
   ]
  },
  {
   "cell_type": "code",
   "execution_count": 33,
   "id": "a6d3c9cc-c512-4eaa-9882-3a7e3c207258",
   "metadata": {},
   "outputs": [
    {
     "name": "stdout",
     "output_type": "stream",
     "text": [
      "test_60\n"
     ]
    },
    {
     "name": "stderr",
     "output_type": "stream",
     "text": [
      "2024-03-20 07:41:10.512767: I tensorflow/compiler/xla/stream_executor/cuda/cuda_dnn.cc:442] Loaded cuDNN version 8902\n",
      "2024-03-20 07:41:11.259778: I tensorflow/tsl/platform/default/subprocess.cc:304] Start cannot spawn child process: No such file or directory\n",
      "2024-03-20 07:41:11.361173: I tensorflow/tsl/platform/default/subprocess.cc:304] Start cannot spawn child process: No such file or directory\n"
     ]
    },
    {
     "name": "stdout",
     "output_type": "stream",
     "text": [
      "411/411 [==============================] - 8s 9ms/step - loss: 0.8249 - accuracy: 0.8422\n",
      "411/411 [==============================] - 4s 8ms/step\n",
      "{'sn': 0.42216867469879515, 'sp': 0.9209504020236697, 'acc': 0.8422093987464905, 'MCC': 0.3681679566204882, 'AUC': 0.7780495620570638, 'PRAuc': 0.4972832451096656, 'precision': 0.5002855511136494, 'F1': 0.45791949817041294, 'lossValue': None}\n"
     ]
    }
   ],
   "source": [
    "print('test_60')\n",
    "print(calculateScore([prot_test_60,prot_test_60_one], label_test_60, model))"
   ]
  },
  {
   "cell_type": "code",
   "execution_count": 34,
   "id": "31ceb416-4447-420e-ae6b-c186fa76c9dd",
   "metadata": {},
   "outputs": [
    {
     "name": "stdout",
     "output_type": "stream",
     "text": [
      "test_70\n",
      "369/369 [==============================] - 4s 10ms/step - loss: 0.5946 - accuracy: 0.8761\n",
      "369/369 [==============================] - 3s 7ms/step\n",
      "{'sn': 0.6921097770154374, 'sp': 0.9214504704514219, 'acc': 0.8760919570922852, 'MCC': 0.6111057533869702, 'AUC': 0.892935716789459, 'PRAuc': 0.7798232782501444, 'precision': 0.6847687738650827, 'F1': 0.6884197056941779, 'lossValue': None}\n"
     ]
    }
   ],
   "source": [
    "print('test_70')\n",
    "print(calculateScore([prot_test_70,prot_test_70_one], label_test_70, model))"
   ]
  },
  {
   "cell_type": "code",
   "execution_count": 35,
   "id": "ab1b744c-2f5a-4793-b54f-ec2446b03812",
   "metadata": {},
   "outputs": [
    {
     "name": "stdout",
     "output_type": "stream",
     "text": [
      "test_UB_31\n",
      "208/208 [==============================] - 2s 9ms/step - loss: 0.6127 - accuracy: 0.8733\n",
      "208/208 [==============================] - 2s 7ms/step\n",
      "{'sn': 0.5160523186682521, 'sp': 0.9249956992946843, 'acc': 0.873309314250946, 'MCC': 0.4347206452138929, 'AUC': 0.8331704758676737, 'PRAuc': 0.5457513056601294, 'precision': 0.49885057471264366, 'F1': 0.5073056691992986, 'lossValue': None}\n"
     ]
    }
   ],
   "source": [
    "print('test_UB_31')\n",
    "print(calculateScore([prot_test_UB_31,prot_test_UB_31_one], label_test_UB_31, model))\n"
   ]
  },
  {
   "cell_type": "code",
   "execution_count": 36,
   "id": "176337ca-dac3-4170-ab7c-56ef000e27d7",
   "metadata": {},
   "outputs": [
    {
     "name": "stdout",
     "output_type": "stream",
     "text": [
      "test_B_31\n",
      "206/206 [==============================] - 2s 10ms/step - loss: 0.6424 - accuracy: 0.8703\n",
      "206/206 [==============================] - 2s 8ms/step\n",
      "{'sn': 0.5017261219792866, 'sp': 0.9264912280701755, 'acc': 0.8702998757362366, 'MCC': 0.43117979357261493, 'AUC': 0.8302801162861122, 'PRAuc': 0.5434115574273224, 'precision': 0.5099415204678363, 'F1': 0.505800464037123, 'lossValue': None}\n"
     ]
    }
   ],
   "source": [
    "print('test_B_31')\n",
    "print(calculateScore([prot_test_B_31,prot_test_B_31_one], label_test_B_31, model))\n"
   ]
  },
  {
   "cell_type": "code",
   "execution_count": 37,
   "id": "91ff6117-de4b-46cb-bac8-09f141b80afe",
   "metadata": {},
   "outputs": [
    {
     "name": "stdout",
     "output_type": "stream",
     "text": [
      "test_20\n",
      "142/142 [==============================] - 1s 9ms/step - loss: 1.6180 - accuracy: 0.7636\n",
      "142/142 [==============================] - 1s 8ms/step\n",
      "{'sn': 0.20972354623450906, 'sp': 0.9298998569384835, 'acc': 0.7636443376541138, 'MCC': 0.194118186020322, 'AUC': 0.6379329861125317, 'PRAuc': 0.3525500827922383, 'precision': 0.4731182795698925, 'F1': 0.2906208718626156, 'lossValue': None}\n"
     ]
    }
   ],
   "source": [
    "print('test_20')\n",
    "print(calculateScore([prot_test_20,prot_test_20_one], label_test_20, model)) "
   ]
  }
 ],
 "metadata": {
  "kernelspec": {
   "display_name": "Python 3 (ipykernel)",
   "language": "python",
   "name": "python3"
  },
  "language_info": {
   "codemirror_mode": {
    "name": "ipython",
    "version": 3
   },
   "file_extension": ".py",
   "mimetype": "text/x-python",
   "name": "python",
   "nbconvert_exporter": "python",
   "pygments_lexer": "ipython3",
   "version": "3.10.13"
  }
 },
 "nbformat": 4,
 "nbformat_minor": 5
}
